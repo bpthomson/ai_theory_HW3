{
  "cells": [
    {
      "cell_type": "code",
      "execution_count": 4,
      "metadata": {
        "id": "k_I8R1UNtD6C"
      },
      "outputs": [
        {
          "ename": "ModuleNotFoundError",
          "evalue": "No module named 'torch'",
          "output_type": "error",
          "traceback": [
            "\u001b[31m---------------------------------------------------------------------------\u001b[39m",
            "\u001b[31mModuleNotFoundError\u001b[39m                       Traceback (most recent call last)",
            "\u001b[36mCell\u001b[39m\u001b[36m \u001b[39m\u001b[32mIn[4]\u001b[39m\u001b[32m, line 1\u001b[39m\n\u001b[32m----> \u001b[39m\u001b[32m1\u001b[39m \u001b[38;5;28;01mimport\u001b[39;00m \u001b[34;01mtorch\u001b[39;00m\n\u001b[32m      2\u001b[39m \u001b[38;5;28;01mimport\u001b[39;00m \u001b[34;01mtorch\u001b[39;00m\u001b[34;01m.\u001b[39;00m\u001b[34;01mnn\u001b[39;00m \u001b[38;5;28;01mas\u001b[39;00m \u001b[34;01mnn\u001b[39;00m\n\u001b[32m      3\u001b[39m \u001b[38;5;28;01mimport\u001b[39;00m \u001b[34;01mtorch\u001b[39;00m\u001b[34;01m.\u001b[39;00m\u001b[34;01moptim\u001b[39;00m \u001b[38;5;28;01mas\u001b[39;00m \u001b[34;01moptim\u001b[39;00m\n",
            "\u001b[31mModuleNotFoundError\u001b[39m: No module named 'torch'"
          ]
        }
      ],
      "source": [
        "import torch\n",
        "import torch.nn as nn\n",
        "import torch.optim as optim\n",
        "import pandas as pd\n",
        "from sklearn.model_selection import train_test_split\n",
        "from sklearn.preprocessing import StandardScaler\n",
        "from torch.utils.data import DataLoader, TensorDataset"
      ]
    },
    {
      "cell_type": "code",
      "execution_count": null,
      "metadata": {
        "id": "_3UoDjBbmKik"
      },
      "outputs": [],
      "source": [
        "# 設定 GPU\n",
        "device = torch.device(\"cuda\" if torch.cuda.is_available() else \"cpu\")\n",
        "print(device)"
      ]
    },
    {
      "cell_type": "code",
      "execution_count": null,
      "metadata": {
        "id": "sh800dUAtUCE"
      },
      "outputs": [],
      "source": [
        "#### TODO\n",
        "data = pd.read_csv('/data/winequality-red_train.csv', delimiter=',')\n",
        "#### TODO\n",
        "\n",
        "selected_features = True\n",
        "if selected_features:\n",
        "  #### TODO\n",
        "\n",
        "  #### TODO\n",
        "if selected_features:\n",
        "  data = data[selected_features + ['quality']]\n",
        "\n",
        "# 分割特徵與標籤\n",
        "X = data.iloc[:, :-1].values  # 特徵\n",
        "y = data.iloc[:, -1].values   # 標籤 (Wine Quality)\n",
        "\n",
        "# 標準化數據\n",
        "scaler = StandardScaler()\n",
        "X = scaler.fit_transform(X)\n"
      ]
    },
    {
      "cell_type": "code",
      "execution_count": null,
      "metadata": {
        "id": "VWEwuajou0k7"
      },
      "outputs": [],
      "source": [
        "# 切分訓練集與測試集\n",
        "X_train, X_test, y_train, y_test = train_test_split(X, y, test_size=0.2, random_state=42)\n",
        "\n",
        "# 轉換為 PyTorch Tensor\n",
        "X_train_tensor = torch.tensor(X_train, dtype=torch.float32).to(device)\n",
        "y_train_tensor = torch.tensor(y_train, dtype=torch.long).to(device)\n",
        "X_test_tensor = torch.tensor(X_test, dtype=torch.float32).to(device)\n",
        "y_test_tensor = torch.tensor(y_test, dtype=torch.long).to(device)\n",
        "\n",
        "# 創建 DataLoader\n",
        "train_dataset = TensorDataset(X_train_tensor, y_train_tensor)\n",
        "test_dataset = TensorDataset(X_test_tensor, y_test_tensor)\n",
        "train_loader = DataLoader(train_dataset, batch_size=32, shuffle=True)\n",
        "test_loader = DataLoader(test_dataset, batch_size=32, shuffle=False)"
      ]
    },
    {
      "cell_type": "code",
      "execution_count": null,
      "metadata": {
        "id": "puyyxtZ4vDIx"
      },
      "outputs": [],
      "source": [
        "# 定義神經網絡模型\n",
        "class WineQualityNN(nn.Module):\n",
        "    def __init__(self, input_dim):\n",
        "        super(WineQualityNN, self).__init__()\n",
        "        #### TODO\n",
        "        self.fc1 = nn.Linear(input_dim, 64)\n",
        "        self.fc2 = nn.Linear(32, 64)\n",
        "        self.fc3 = nn.Linear(32, )  # Wine quality 範圍為 0-10\n",
        "        #### TODO\n",
        "\n",
        "    def forward(self, x):\n",
        "        x = torch.relu(self.fc1(x))\n",
        "        x = torch.relu(self.fc2(x))\n",
        "        x = self.fc3(x)\n",
        "        return x"
      ]
    },
    {
      "cell_type": "code",
      "execution_count": null,
      "metadata": {
        "id": "hwpJdnUkvG_0"
      },
      "outputs": [],
      "source": [
        "# 初始化模型\n",
        "input_dim = X.shape[1]\n",
        "model = WineQualityNN(input_dim).to(device)\n",
        "criterion = nn.CrossEntropyLoss()\n",
        "optimizer = optim.Adam(model.parameters(), lr=0.01)"
      ]
    },
    {
      "cell_type": "code",
      "execution_count": null,
      "metadata": {
        "id": "OR4rKdpnvMAj"
      },
      "outputs": [],
      "source": [
        "# 訓練模型\n",
        "def train_model(model, train_loader, criterion, optimizer, epochs=20):\n",
        "    for epoch in range(epochs):\n",
        "        total_loss = 0\n",
        "        for X_batch, y_batch in train_loader:\n",
        "            optimizer.zero_grad()\n",
        "            outputs = model(X_batch)\n",
        "            loss = criterion(outputs, y_batch)\n",
        "            loss.backward()\n",
        "            optimizer.step()\n",
        "            total_loss += loss.item()\n",
        "        print(f\"Epoch {epoch+1}/{epochs}, Loss: {total_loss/len(train_loader):.4f}\")\n"
      ]
    },
    {
      "cell_type": "code",
      "execution_count": null,
      "metadata": {
        "id": "2yMSIqfjvNbF"
      },
      "outputs": [],
      "source": [
        "# 測試模型\n",
        "def test_model(model, test_loader):\n",
        "    correct = 0\n",
        "    total = 0\n",
        "    with torch.no_grad():\n",
        "        for X_batch, y_batch in test_loader:\n",
        "            outputs = model(X_batch)\n",
        "            _, predicted = torch.max(outputs, 1)\n",
        "            total += y_batch.size(0)\n",
        "            correct += (predicted == y_batch).sum().item()\n",
        "    print(f\"Test Accuracy: {100 * correct / total:.2f}%\")"
      ]
    },
    {
      "cell_type": "markdown",
      "metadata": {},
      "source": []
    },
    {
      "cell_type": "code",
      "execution_count": null,
      "metadata": {
        "id": "CHySQ_n_vPer"
      },
      "outputs": [],
      "source": [
        "# 執行訓練與測試\n",
        "train_model(model, train_loader, criterion, optimizer, epochs=100)\n",
        "test_model(model, test_loader)"
      ]
    },
    {
      "cell_type": "code",
      "execution_count": null,
      "metadata": {
        "id": "Cds03rOn0acY"
      },
      "outputs": [],
      "source": [
        "# 預測新數據並保存到同一個 CSV\n",
        "def predict_and_save_combined(model, selected_features, files, output_csv):\n",
        "    results = []\n",
        "    for file_path, wine_type in files:\n",
        "        data = pd.read_csv(file_path, delimiter=',')\n",
        "        if selected_features:\n",
        "            data = data[selected_features]\n",
        "        X_new = scaler.transform(data.values)\n",
        "        X_new_tensor = torch.tensor(X_new, dtype=torch.float32).to(device)\n",
        "\n",
        "        with torch.no_grad():\n",
        "            outputs = model(X_new_tensor)\n",
        "            _, predicted = torch.max(outputs, 1)\n",
        "\n",
        "        results.extend([\n",
        "            {'ID': f\"{wine_type}_{i+1}\", 'quality': int(pred.cpu().numpy())}\n",
        "            for i, pred in enumerate(predicted)\n",
        "        ])\n",
        "\n",
        "    results_df = pd.DataFrame(results)\n",
        "    results_df.to_csv(output_csv, index=False)\n",
        "    print(f\"Predictions saved to {output_csv}\")"
      ]
    },
    {
      "cell_type": "code",
      "execution_count": null,
      "metadata": {
        "id": "siQnD7qF0beS"
      },
      "outputs": [],
      "source": [
        "# 預測紅酒與白酒品質，合併輸出至單一 CSV\n",
        "predict_and_save_combined(model,\n",
        "  selected_features,\n",
        " [(\"winequality-red_goal.csv\", \"red\"), (\"winequality-white_goal.csv\", \"white\")],\n",
        "                          \"/content/baseline_winequality_predictions.csv\")"
      ]
    }
  ],
  "metadata": {
    "colab": {
      "provenance": []
    },
    "kernelspec": {
      "display_name": "ml_env",
      "language": "python",
      "name": "python3"
    },
    "language_info": {
      "codemirror_mode": {
        "name": "ipython",
        "version": 3
      },
      "file_extension": ".py",
      "mimetype": "text/x-python",
      "name": "python",
      "nbconvert_exporter": "python",
      "pygments_lexer": "ipython3",
      "version": "3.12.9"
    }
  },
  "nbformat": 4,
  "nbformat_minor": 0
}
