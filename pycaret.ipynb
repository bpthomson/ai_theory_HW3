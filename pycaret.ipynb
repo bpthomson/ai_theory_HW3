{
 "cells": [
  {
   "cell_type": "code",
   "execution_count": null,
   "metadata": {
    "vscode": {
     "languageId": "plaintext"
    }
   },
   "outputs": [],
   "source": [
    "# -------------------------------\n",
    "# Combine the Predictions\n",
    "# -------------------------------\n",
    "\n",
    "red_ids = ['red_' + str(i + 1) for i in range(len(red_pred))]\n",
    "white_ids = ['white_' + str(i + 1) for i in range(len(white_pred))]\n",
    "red_results = pd.DataFrame({'ID': red_ids, 'quality': red_pred})\n",
    "white_results = pd.DataFrame({'ID': white_ids, 'quality': white_pred})\n",
    "combined_results = pd.concat([red_results, white_results], ignore_index=True)\n",
    "combined_results.to_csv('combined_predictions.csv', index=False)"
   ]
  }
 ],
 "metadata": {
  "language_info": {
   "name": "python"
  }
 },
 "nbformat": 4,
 "nbformat_minor": 2
}
